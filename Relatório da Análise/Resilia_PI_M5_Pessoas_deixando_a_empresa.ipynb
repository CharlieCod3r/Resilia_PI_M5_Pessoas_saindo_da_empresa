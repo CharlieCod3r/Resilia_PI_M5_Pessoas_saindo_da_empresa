{
  "nbformat": 4,
  "nbformat_minor": 0,
  "metadata": {
    "colab": {
      "provenance": []
    },
    "kernelspec": {
      "name": "python3",
      "display_name": "Python 3"
    },
    "language_info": {
      "name": "python"
    }
  },
  "cells": [
    {
      "cell_type": "markdown",
      "source": [
        "# Análise de Saídas de Funcionários na Organização de Marketing"
      ],
      "metadata": {
        "id": "oGyO4Gl1Ydg5"
      }
    },
    {
      "cell_type": "markdown",
      "source": [
        "#### Neste projeto, conduzi uma análise abrangente do atrito de funcionários na organização de marketing. Foi coletado dados valiosos do parceiro de Recursos Humanos (RH) e da Pesquisa de Desligamento, e realizado uma análise detalhada para identificar as principais razões de saída e seu impacto percebido. Optei por combinar essas fontes de dados para obter uma visão mais completa do problema, permitindo ser identificado tendências e padrões consistentes. A escolha de enfatizar os motivos com alto impacto, como 'Falta de Reconhecimento' e 'Progressão de Carreira,' é apoiada pelos dados e representa um passo significativo para direcionar esforços em áreas críticas de retenção. É importante observar que, devido à falta de dados temporais, não foi possível avaliar tendências passadas ou fazer previsões futuras. A ausência de um histórico de dados limitou nossa análise a um instantâneo do atrito atual. As descobertas e recomendações fornecem uma base sólida para o desenvolvimento de estratégias eficazes de retenção e aprimoramento do ambiente de trabalho."
      ],
      "metadata": {
        "id": "53PZvsxSYpsa"
      }
    },
    {
      "cell_type": "markdown",
      "source": [
        "# Contexto:\n",
        "- Uma organização de marketing está tentando entender o que está causando um atrito “pessoas estão deixando a empresa”. O Chief Marketing Officer (CMO) solicitou unificação de forças com o Parceiro de Negócios de Recursos Humanos (HRBP) para juntos descobrirmos e apresentar as análises."
      ],
      "metadata": {
        "id": "AK4ZfUFbzXk8"
      }
    },
    {
      "cell_type": "markdown",
      "source": [
        "#### Este é o gráfico que a equipe parceira RH nos enviou para análise.\n",
        "<img src='https://swd-community-media.s3.amazonaws.com/media/django-summernote/2021-05-12/38651886-9bfe-4266-8c5d-cce1edd2b93c.png' height='700px'/>"
      ],
      "metadata": {
        "id": "9d0tigEKYNwW"
      }
    },
    {
      "cell_type": "markdown",
      "source": [
        "# **1. O que está sendo mostrado aqui?**\n",
        "- Neste gráfico, estamos apresentando dados da pesquisa realizada pelo HRBP e a Pesquisa de Desligamento, sobre o atrito de funcionários na organização de marketing. A visualização é um gráfico de bolhas com uma divisão em 4 espaços, onde contém bolhas com números. As bolhas representam os motivos de saída dos funcionários, e os números nas bolhas indicam a frequência de cada motivo. Além disso, há uma legenda que fornece informações sobre cada motivo, com uma identificação lateral esquerda mostrando a intensidade do impacto (baixa/alta).\n",
        "\n",
        "- Comparativo Geral entre as duas pesquisas.\n",
        "\n",
        "<img src='https://i.imgur.com/c832VDj.png' height='600px'/>\n",
        "\n",
        "- O gráfico revela uma correlação entre os motivos de saída apontados pelo HRBP e os motivos relatados pelos funcionários que saíram na Pesquisa de Desligamento. Isso destaca a consistência das preocupações dos funcionários, validando a importância de abordar questões como \"Progressão de Carreira,\" \"Falta de Reconhecimento\" e \"Conflito com Outros Funcionários\" para melhorar a retenção de colaboradores."
      ],
      "metadata": {
        "id": "Ca_gbE441lpl"
      }
    },
    {
      "cell_type": "markdown",
      "source": [
        "# **2.  Observação dos dados:**\n",
        "\n",
        "Observando os dados, duas conclusões específicas podem ser tiradas:\n",
        "\n",
        "1. A \"Progressão de Carreira\" emerge como um motivo de saída predominante, com altos números em ambas as pesquisas. Isso indica a necessidade de um foco contínuo no desenvolvimento profissional dos funcionários para reduzir o atrito.\n",
        "\n",
        "<img src=\"https://i.imgur.com/3b8mXuM.png\" height='600px'/>\n",
        "\n",
        "2. Os dados revelam que o \"Tipo de Trabalho\" possui números elevados como motivo de saída, no entanto, é importante notar que, em termos de impacto percebido, ele está abaixo da \"Falta de Reconhecimento\". Isso significa que, embora haja mais funcionários mencionando o \"Tipo de Trabalho\" como motivo, a insatisfação relacionada à falta de reconhecimento tem um impacto mais profundo, o que sugere que os funcionários podem estar mais insatisfeitos quando não se sentem valorizados e reconhecidos, independentemente do tipo de trabalho que desempenham. Portanto, isso enfatiza ainda mais a necessidade de priorizar o reconhecimento e a valorização como parte das estratégias para melhorar a satisfação e a retenção dos funcionários.\n",
        "\n",
        "<img src=\"https://i.imgur.com/rEQoR79.png\" height='600px'/>\n"
      ],
      "metadata": {
        "id": "k6w0LWELYVsn"
      }
    },
    {
      "cell_type": "markdown",
      "source": [
        "# **3. O que não é ideal ou poderia ser evitado na visualização atual?**\n",
        "\n",
        "Na visualização atual, há alguns aspectos que podem ser considerados para melhorar a compreensão e a eficácia:\n",
        "\n",
        "1. **Complexidade Visual:** O gráfico de bolhas, embora seja visualmente atraente, pode tornar a compreensão dos números nas bolhas mais difícil em comparação com gráficos mais convencionais, como gráficos de barras.\n",
        "\n",
        "2. **Ênfase na Diferença de Impacto:** Uma observação importante a fazer é que, mesmo com números elevados, os motivos de saída com impacto \"baixo\" podem não ser tão críticos quanto os motivos com impacto \"alto\". Portanto, pode ser benéfico destacar a diferença de impacto entre os motivos.\n",
        "\n",
        "3. **Simplificação da Visualização:** Considere simplificar a visualização, talvez utilizando gráficos mais tradicionais, como gráficos de barras empilhadas, que são mais familiares e fáceis de interpretar para a maioria das pessoas.\n",
        "\n",
        "4. **Ausência de análise temporal:** Gostaria de destacar a importância da análise temporal dos dados. A ausência de uma dimensão temporal na pesquisa atual limita nossa capacidade de compreender como as preocupações dos funcionários podem ter evoluído ao longo do tempo. Para obter uma visão mais completa das tendências e mudanças nas razões de saída e no impacto percebido, seria benéfico considerar a implementação de pesquisas periódicas. Isso nos permitiria acompanhar as variações ao longo do tempo e ajustar nossas estratégias de acordo com as necessidades em evolução constante.\n",
        "\n",
        "5. **Feedback:** Aprecio o esforço dedicado à criação deste gráfico. Para torná-lo ainda mais eficaz, sugiro considerar algumas simplificações, como a adição de rótulos claros e a explicação mais detalhada da barra de impacto e frequência. Isso tornaria a visualização mais acessível e facilitaria a interpretação dos dados."
      ],
      "metadata": {
        "id": "E1R_ezsaRjk2"
      }
    },
    {
      "cell_type": "markdown",
      "source": [
        "# **4. Três maneiras diferentes de mostrar esses dados:**\n",
        "\n",
        "1.  Gráfico de barras empilhadas: Pode ser útil para mostrar a composição dos motivos de saída em relação ao número total de funcionários que saíram. Vantagem: clareza na comparação de razões; Desvantagem: dificuldade em visualizar números absolutos.\n",
        "\n",
        "2.  Gráfico de dispersão: Pode ajudar a identificar correlações entre os motivos de saída e o impacto percebido. Vantagem: destaca a relação entre motivo e impacto; Desvantagem: pode ser menos intuitivo para alguns.\n",
        "\n",
        "3.  Gráfico de barras agrupadas: Permite comparar o número de saídas em cada motivo lado a lado. Vantagem: mantém a clareza na comparação entre motivos; Desvantagem: pode não enfatizar tão claramente os motivos com alto impacto, a menos que seja combinado com cores ou outras técnicas visuais"
      ],
      "metadata": {
        "id": "fmux-jlfsPWN"
      }
    },
    {
      "cell_type": "markdown",
      "source": [
        "# **5. Qual visualização representa melhor os dados e por quê?**\n",
        "- A visualização mais adequada depende do objetivo da apresentação. No entanto, um gráfico de barras empilhadas pode ser a melhor escolha, pois permite comparar visualmente a frequência de cada motivo de saída em relação ao total de saídas. Isso é crucial para identificar os principais motivos de atrito."
      ],
      "metadata": {
        "id": "W-SCtmmhuEZp"
      }
    },
    {
      "cell_type": "markdown",
      "source": [
        "# **6. Como gerar uma história orientada por dados:**\n",
        "- Para contar a história ao seu chefe, você pode criar um painel no Tableau com várias visualizações, incluindo o gráfico de barras empilhadas mencionado acima. Em seguida, você pode criar uma narrativa que segue esta estrutura:\n",
        "\n",
        "- **Introdução:** Apresente o problema (atrito de funcionários) e a importância de entendê-lo.\n",
        "- **Apresentação dos dados:** Mostre o gráfico de barras empilhadas e destaque que a progressão de carreira é o principal motivo de saída.\n",
        "- **Análise:** Discuta as principais observações, como a falta de reconhecimento e a realocação também são motivos significativos.\n",
        "- **Soluções sugeridas:** Com base nas conclusões, sugira possíveis soluções, como programas de desenvolvimento de carreira e reconhecimento.\n",
        "- **Conclusão:** Recapitule os principais pontos e enfatize a importância de abordar esses problemas para reduzir o atrito de funcionários.\n",
        "\n",
        "Essa narrativa orientada por dados fornecerá uma compreensão clara do problema e das ações sugeridas para abordá-lo."
      ],
      "metadata": {
        "id": "mOyhOlvJu0CT"
      }
    },
    {
      "cell_type": "markdown",
      "source": [
        "# **Discrepâncias**\n",
        "Analisando os resultados é possível identificar algumas discrepâncias. Uma delas é a quantidade de funcionários que responderam as duas pesquisas apresentando uma diferença de 61 respostas. E aqui estão algumas suposições e explicações:\n",
        "\n",
        "<img src=\"https://i.imgur.com/uckJ4R3.png\" height='600px'/>\n",
        "\n",
        "1. **Diferenças nas Amostras e Metodologias:**\n",
        "   - Os dados levam a crer que O HRBP conduziu uma pesquisa que envolveu um grupo específico de funcionários, enquanto a Pesquisa de Desligamento coletou dados de funcionários que estavam, de fato, saindo da empresa.\n",
        "   - A diferença nas amostras pode ser explicada pela natureza das duas pesquisas: a pesquisa do HRBP pode ter sido mais abrangente, enquanto a Pesquisa de Desligamento é direcionada apenas aos funcionários que estão saindo.\n",
        "\n",
        "2. **Discrepâncias nos Resultados:**\n",
        "   - As discrepâncias nos resultados entre as duas pesquisas podem ser explicadas por vários fatores, como diferenças nas perguntas, na forma como as perguntas foram feitas e na época em que as pesquisas foram realizadas.\n",
        "   - É fundamental analisar as áreas em que as duas pesquisas concordam e aquelas em que divergem. Isso pode fornecer insights valiosos sobre os motivos reais de saída dos funcionários.\n",
        "   - A diferença nos números pode ser devido à perspectiva do momento em que as respostas foram coletadas. O HRBP pode ter obtido informações de funcionários atuais, enquanto a Pesquisa de Desligamento ouviu aqueles que já tomaram a decisão de sair."
      ],
      "metadata": {
        "id": "dhvuloUyykl4"
      }
    },
    {
      "cell_type": "markdown",
      "source": [
        "# Conclusões\n",
        "- Apesar da limitação de dados fornecidos, este projeto ofereceu insights valiosos sobre as razões pelas quais os funcionários deixam a empresa e o impacto percebido dessas razões. Através desses dados, foi possível identificar tendências e padrões significativos.\n",
        "\n",
        "- A presença consistente de motivos como \"Falta de Reconhecimento\" e \"Progressão de Carreira\" como principais impulsionadores do atrito. Isso destaca a importância crítica de melhorar o reconhecimento e as oportunidades de crescimento profissional como parte das estratégias de retenção de talentos.\n",
        "\n",
        "- Além disso, a alta participação nas pesquisas demonstra o compromisso dos funcionários em compartilhar suas preocupações e contribuir para a resolução de problemas. Isso é um indicativo de um ambiente de trabalho onde a comunicação e o engajamento são valorizados.\n",
        "\n",
        "- Este projeto não apenas forneceu uma compreensão aprofundada das causas do atrito, mas também estabeleceu uma base sólida para a tomada de decisões informadas. As conclusões e insights aqui obtidos podem servir como diretrizes para a implementação de estratégias de retenção mais eficazes, aprimorando a satisfação dos funcionários e promovendo um ambiente de trabalho mais saudável e produtivo."
      ],
      "metadata": {
        "id": "d34hhCl_zIg7"
      }
    },
    {
      "cell_type": "markdown",
      "source": [],
      "metadata": {
        "id": "CgmA296x1izf"
      }
    }
  ]
}